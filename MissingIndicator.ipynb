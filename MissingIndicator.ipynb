{
  "nbformat": 4,
  "nbformat_minor": 0,
  "metadata": {
    "colab": {
      "name": "MissingIndicator.ipynb",
      "provenance": [],
      "collapsed_sections": [],
      "authorship_tag": "ABX9TyNM0BQ8EixJQk09xxNcDLei",
      "include_colab_link": true
    },
    "kernelspec": {
      "name": "python3",
      "display_name": "Python 3"
    },
    "language_info": {
      "name": "python"
    }
  },
  "cells": [
    {
      "cell_type": "markdown",
      "metadata": {
        "id": "view-in-github",
        "colab_type": "text"
      },
      "source": [
        "<a href=\"https://colab.research.google.com/github/Laura-Neff/MissingIndicator/blob/main/MissingIndicator.ipynb\" target=\"_parent\"><img src=\"https://colab.research.google.com/assets/colab-badge.svg\" alt=\"Open In Colab\"/></a>"
      ]
    },
    {
      "cell_type": "code",
      "execution_count": 1,
      "metadata": {
        "id": "kKylh1Ai275j"
      },
      "outputs": [],
      "source": [
        "import pandas as pd\n",
        "import numpy as np\n",
        "\n",
        "from sklearn.impute import MissingIndicator"
      ]
    },
    {
      "cell_type": "code",
      "source": [
        "features = [[4, 2, 1], \n",
        "            [24, 12, 6], \n",
        "            [8, 4, 2], \n",
        "            [28, 14, 7], \n",
        "            [32, 16, -1], \n",
        "            [600, 300, 150], \n",
        "            [-1, 60, 30], \n",
        "            [-1, 4, 1]]"
      ],
      "metadata": {
        "id": "12EjHVi53AqM"
      },
      "execution_count": 2,
      "outputs": []
    },
    {
      "cell_type": "code",
      "source": [
        "indicator = MissingIndicator(missing_values=-1) #When we have a value of -1 in our array, we are saying it is missing. "
      ],
      "metadata": {
        "id": "sizJzLL_3ESM"
      },
      "execution_count": 3,
      "outputs": []
    },
    {
      "cell_type": "code",
      "source": [
        "mask_missing_values_only = indicator.fit_transform(features)  #We are now going to make a True/False matrix to indicate where missing values are. True = missing\n",
        "\n",
        "mask_missing_values_only\n",
        "\n",
        "#Do you get the pattern now? When we use all these functions, we first instantiate a variable that will dictate to the next function what we want\n",
        "#It will give info to the next function; if you see -1, it is a missing value\n",
        "#Then, typically the \"fit\" and \"transform\" functions will take that piece of info and transform the array you give it with that info "
      ],
      "metadata": {
        "colab": {
          "base_uri": "https://localhost:8080/"
        },
        "id": "LT37y71F382J",
        "outputId": "f5120690-b015-401f-dc5e-bba47fa058a9"
      },
      "execution_count": 4,
      "outputs": [
        {
          "output_type": "execute_result",
          "data": {
            "text/plain": [
              "array([[False, False],\n",
              "       [False, False],\n",
              "       [False, False],\n",
              "       [False, False],\n",
              "       [False,  True],\n",
              "       [False, False],\n",
              "       [ True, False],\n",
              "       [ True, False]])"
            ]
          },
          "metadata": {},
          "execution_count": 4
        }
      ]
    },
    {
      "cell_type": "code",
      "source": [
        "indicator.features_ #tells us what columns are displayed; displaying only columns with missing values in this case, 0 and 2. Indexing starts at 0 "
      ],
      "metadata": {
        "colab": {
          "base_uri": "https://localhost:8080/"
        },
        "id": "0YgsHtr8MfwK",
        "outputId": "745cb005-c10a-4a54-8e7f-609d21bb5413"
      },
      "execution_count": 5,
      "outputs": [
        {
          "output_type": "execute_result",
          "data": {
            "text/plain": [
              "array([0, 2])"
            ]
          },
          "metadata": {},
          "execution_count": 5
        }
      ]
    },
    {
      "cell_type": "code",
      "source": [
        "indicator = MissingIndicator(missing_values=-1, features=\"all\")"
      ],
      "metadata": {
        "id": "jeXmYg5GM2st"
      },
      "execution_count": 6,
      "outputs": []
    },
    {
      "cell_type": "code",
      "source": [
        "mask_all = indicator.fit_transform(features) #A lot more clear where exactly there are missing values\n",
        "\n",
        "mask_all"
      ],
      "metadata": {
        "colab": {
          "base_uri": "https://localhost:8080/"
        },
        "id": "3q9lOBH7M8mT",
        "outputId": "86e519e4-aa02-4710-b044-353fac5f27c4"
      },
      "execution_count": 7,
      "outputs": [
        {
          "output_type": "execute_result",
          "data": {
            "text/plain": [
              "array([[False, False, False],\n",
              "       [False, False, False],\n",
              "       [False, False, False],\n",
              "       [False, False, False],\n",
              "       [False, False,  True],\n",
              "       [False, False, False],\n",
              "       [ True, False, False],\n",
              "       [ True, False, False]])"
            ]
          },
          "metadata": {},
          "execution_count": 7
        }
      ]
    },
    {
      "cell_type": "code",
      "source": [
        "indicator.features_"
      ],
      "metadata": {
        "colab": {
          "base_uri": "https://localhost:8080/"
        },
        "id": "vOKdC5gRNMLP",
        "outputId": "c11e9c48-8aa0-4d39-a289-cc574789e8ce"
      },
      "execution_count": 8,
      "outputs": [
        {
          "output_type": "execute_result",
          "data": {
            "text/plain": [
              "array([0, 1, 2])"
            ]
          },
          "metadata": {},
          "execution_count": 8
        }
      ]
    }
  ]
}